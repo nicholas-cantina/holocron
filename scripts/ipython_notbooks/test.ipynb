{
 "cells": [
  {
   "cell_type": "code",
   "execution_count": 23,
   "metadata": {},
   "outputs": [
    {
     "name": "stdout",
     "output_type": "stream",
     "text": [
      "An error occurred while reading /Users/nicholasbern/src/holocron/scripts/../data/templates/questions_answers/question-answer-few-shot-examples.json: [Errno 2] No such file or directory: '/Users/nicholasbern/src/holocron/scripts/../data/templates/questions_answers/question-answer-few-shot-examples.json'\n",
      "An error occurred while reading /Users/nicholasbern/src/holocron/scripts/../data/templates/questions_answers/question-reframed-question-few-shot-examples.json: [Errno 2] No such file or directory: '/Users/nicholasbern/src/holocron/scripts/../data/templates/questions_answers/question-reframed-question-few-shot-examples.json'\n",
      "Function _fetch_recent_messages_for_bot_room total time: 0.0056161\n",
      "Function get_embeddings total time: 0.3665963\n",
      "Function _fetch_similar_messages_for_bot_room total time: 0.3780304\n",
      "Function get_completion total time: 2.7234469\n",
      "Function _fetch_recent_messages_for_bot_room total time: 0.0058600\n",
      "Function get_embeddings total time: 0.3628035\n",
      "Function _fetch_similar_messages_for_bot_room total time: 0.3745815\n",
      "Function get_completion total time: 1.4979226\n",
      "Function get_embeddings total time: 0.3528354\n",
      "Function save_message_to_search_table total time: 0.3621405\n",
      "Data successfully saved to /Users/nicholasbern/src/holocron/scripts/../data/test_outputs/memories-test-results.jsonl\n"
     ]
    }
   ],
   "source": [
    "%reload_ext autoreload\n",
    "%autoreload 2\n",
    "\n",
    "import sys\n",
    "import os\n",
    "import itertools\n",
    "\n",
    "parent_dir = os.path.abspath(os.path.join(os.getcwd(), \"..\", os.pardir))\n",
    "if parent_dir not in sys.path:\n",
    "    sys.path.insert(0, parent_dir)\n",
    "\n",
    "from scripts import test_config, setup\n",
    "from src import memory, storage\n",
    "from src.utils import common, extract\n",
    "\n",
    "\n",
    "test_data = test_config.get_test_data()\n",
    "\n",
    "# Comment out if you have already initialized the database\n",
    "# setup.delete_db(test_data[\"database\"][\"delete_db_script\"], test_data[\"database\"][\"params\"])\n",
    "# setup.initialize_db(\n",
    "#     test_data[\"database\"][\"create_db_script\"], \n",
    "#     test_data[\"database\"][\"sql_file\"], \n",
    "#     test_data[\"database\"][\"params\"]\n",
    "# )\n",
    "\n",
    "responses = []\n",
    "for conversation in itertools.islice(\n",
    "      test_data[\"test\"][\"conversations\"],\n",
    "      test_data[\"test\"][\"how_many_conversations\"]\n",
    "):\n",
    "    conversation_data = extract.extract_conversation_data(conversation)\n",
    "    # storage.save_conversation_to_search_table(test_data, conversation_data)\n",
    "\n",
    "    memory.ask_questions(test_data, conversation_data)\n",
    "    # memory.generate_takeaways(test_data, conversation_data)\n",
    "\n",
    "    # response = memory.get_response_to_conversation(test_data, conversation_data)\n",
    "    #responses += [{\"conversation\": conversation, \"response\": response}]\n",
    "\n",
    "common.save_jsonl_file(test_data[\"test\"][\"test_save_output_filepath\"], responses)\n"
   ]
  }
 ],
 "metadata": {
  "kernelspec": {
   "display_name": "venv",
   "language": "python",
   "name": "python3"
  },
  "language_info": {
   "codemirror_mode": {
    "name": "ipython",
    "version": 3
   },
   "file_extension": ".py",
   "mimetype": "text/x-python",
   "name": "python",
   "nbconvert_exporter": "python",
   "pygments_lexer": "ipython3",
   "version": "3.9.6"
  }
 },
 "nbformat": 4,
 "nbformat_minor": 2
}
