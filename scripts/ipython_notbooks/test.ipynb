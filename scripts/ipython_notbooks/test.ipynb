{
 "cells": [
  {
   "cell_type": "code",
   "execution_count": 124,
   "metadata": {},
   "outputs": [],
   "source": [
    "%reload_ext autoreload\n",
    "%autoreload 2\n",
    "\n",
    "import sys\n",
    "import os\n",
    "\n",
    "parent_dir = os.path.abspath(os.path.join(os.getcwd(), \"..\"))\n",
    "if parent_dir not in sys.path:\n",
    "    sys.path.insert(0, parent_dir)\n",
    "\n",
    "from scripts import test_config, setup\n",
    "from src import pipeline\n",
    "from src.storage import retrieve\n",
    "\n",
    "# set up data stores\n",
    "config_data = test_config.get_config_data()\n",
    "setup.initialize_data_stores(config_data)\n",
    "\n",
    "# backfill data\n",
    "scenerio_data = config_data[\"test\"][\"scenerio\"][0]\n",
    "pipeline.backfill_stm(config_data, scenerio_data)\n",
    "\n",
    "# make bots available\n",
    "bot_datas = config_data[\"test\"][\"bot_datas\"]"
   ]
  },
  {
   "cell_type": "code",
   "execution_count": null,
   "metadata": {},
   "outputs": [],
   "source": [
    "def ask_bot_questions(bot_user_id, questions):\n",
    "    bot_data = bot_datas[bot_user_id]\n",
    "    for question in questions:\n",
    "        pipeline.answer_question(config_data, scenerio_data, bot_data, question)\n",
    "\n",
    "ask_bot_questions(bot_datas[\"alice\"], config_data[\"test\"][\"questions\"])"
   ]
  },
  {
   "cell_type": "code",
   "execution_count": null,
   "metadata": {},
   "outputs": [],
   "source": [
    "def get_bot_response(bot_user_id):\n",
    "    bot_data = bot_datas[bot_user_id]\n",
    "    message = retrieve.get_latest_event(config_data, scenerio_data)\n",
    "    response = pipeline.chat(config_data, scenerio_data, bot_data, message)\n",
    "    pipeline.update_stm(config_data, scenerio_data, bot_data, response)\n",
    "\n",
    "get_bot_response(bot_datas[\"alice\"])"
   ]
  },
  {
   "cell_type": "code",
   "execution_count": null,
   "metadata": {},
   "outputs": [],
   "source": [
    "def update_memory():\n",
    "    message = retrieve.get_latest_event(config_data, scenerio_data)\n",
    "    pipeline.update_mtm(config_data, scenerio_data, message)\n",
    "    pipeline.update_ltm(config_data, scenerio_data, message)\n",
    "\n",
    "update_memory()"
   ]
  },
  {
   "cell_type": "code",
   "execution_count": null,
   "metadata": {},
   "outputs": [],
   "source": [
    "# print all the memory stores?\n",
    "print(config_data[\"summarize\"][\"mtm_template\"])"
   ]
  }
 ],
 "metadata": {
  "kernelspec": {
   "display_name": "venv",
   "language": "python",
   "name": "python3"
  },
  "language_info": {
   "codemirror_mode": {
    "name": "ipython",
    "version": 3
   },
   "file_extension": ".py",
   "mimetype": "text/x-python",
   "name": "python",
   "nbconvert_exporter": "python",
   "pygments_lexer": "ipython3",
   "version": "3.9.6"
  }
 },
 "nbformat": 4,
 "nbformat_minor": 2
}
