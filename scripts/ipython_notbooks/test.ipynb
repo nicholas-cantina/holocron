{
 "cells": [
  {
   "cell_type": "code",
   "execution_count": null,
   "metadata": {},
   "outputs": [],
   "source": [
    "%reload_ext autoreload\n",
    "%autoreload 2\n",
    "\n",
    "import sys\n",
    "import os\n",
    "\n",
    "parent_dir = os.path.abspath(os.path.join(os.getcwd(), \"..\", os.pardir))\n",
    "if parent_dir not in sys.path:\n",
    "    sys.path.insert(0, parent_dir)\n",
    "\n",
    "from scripts import test_config, setup\n",
    "\n",
    "\n",
    "config_data = test_config.get_config_data()\n",
    "\n",
    "setup.initialize_db(config_data[\"database\"])\n"
   ]
  },
  {
   "cell_type": "code",
   "execution_count": null,
   "metadata": {},
   "outputs": [],
   "source": [
    "from src import pipeline\n",
    "from src.utils import common\n",
    "\n",
    "\n",
    "config_data = test_config.get_config_data()\n",
    "\n",
    "responses = []\n",
    "for scenerio_data in config_data[\"test\"][\"scenerios\"]:\n",
    "    pipeline.initialize_ltm_pipeline(config_data, scenerio_data)\n",
    "    # pipeline.initialize_stm_pipeline(config_data, scenerio_data)\n",
    "\n",
    "    pipeline.run_memory_creation_pipeline(config_data, scenerio_data)\n",
    "    # pipeline.run_memory_consolidation_pipeline(config_data, scenerio_data)\n",
    "\n",
    "    scenerio_responses = []\n",
    "    for _ in range(config_data[\"test\"][\"num_replies_per_scenerio\"]):\n",
    "        response = pipeline.run_chat_pipeline(config_data, scenerio_data)\n",
    "        scenerio_responses += [response]\n",
    "\n",
    "    responses += [scenerio_responses]\n",
    "\n",
    "common.save_jsonl_file(config_data[\"test\"][\"test_save_output_filepath\"], responses)\n"
   ]
  }
 ],
 "metadata": {
  "kernelspec": {
   "display_name": "venv",
   "language": "python",
   "name": "python3"
  },
  "language_info": {
   "codemirror_mode": {
    "name": "ipython",
    "version": 3
   },
   "file_extension": ".py",
   "mimetype": "text/x-python",
   "name": "python",
   "nbconvert_exporter": "python",
   "pygments_lexer": "ipython3",
   "version": "3.9.6"
  }
 },
 "nbformat": 4,
 "nbformat_minor": 2
}
