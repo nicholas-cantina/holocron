{
 "cells": [
  {
   "cell_type": "code",
   "execution_count": 124,
   "metadata": {},
   "outputs": [],
   "source": [
    "%reload_ext autoreload\n",
    "%autoreload 2\n",
    "\n",
    "import sys\n",
    "import os\n",
    "\n",
    "parent_dir = os.path.abspath(os.path.join(os.getcwd(), \"..\", os.pardir))\n",
    "if parent_dir not in sys.path:\n",
    "    sys.path.insert(0, parent_dir)\n",
    "\n",
    "from scripts import test_config, setup\n",
    "from src import pipeline\n",
    "from src.storage import retrieve\n",
    "\n",
    "\n",
    "config_data = test_config.get_config_data()\n",
    "scenerio_data = config_data[\"test\"][\"scenerios\"][0]\n",
    "\n",
    "setup.initialize_data_stores(config_data)"
   ]
  },
  {
   "cell_type": "code",
   "execution_count": null,
   "metadata": {},
   "outputs": [],
   "source": [
    "pipeline.backfill_stm(config_data, scenerio_data)"
   ]
  },
  {
   "cell_type": "code",
   "execution_count": null,
   "metadata": {},
   "outputs": [],
   "source": [
    "bot_datas = {bot[\"full_name\"]: bot for bot in scenerio_data[\"users\"][\"bots\"]}\n",
    "print([key for key in bot_datas.keys()])"
   ]
  },
  {
   "cell_type": "code",
   "execution_count": null,
   "metadata": {},
   "outputs": [],
   "source": [
    "bot_data = bot_datas[\"Juan Tana Mera\"]\n",
    "for question in config_data[\"create\"][\"questions\"][:1]:\n",
    "    pipeline.answer_question(config_data, scenerio_data, bot_data, question)"
   ]
  },
  {
   "cell_type": "code",
   "execution_count": null,
   "metadata": {},
   "outputs": [],
   "source": [
    "message = retrieve.get_latest_event(config_data, scenerio_data)\n",
    "\n",
    "bot_data = bot_datas[\"Juan Tana Mera\"]  # bot you want to respond\n",
    "response = pipeline.chat(config_data, scenerio_data, bot_data, message)\n",
    "pipeline.update_stm(config_data, scenerio_data, bot_data, response)"
   ]
  },
  {
   "cell_type": "code",
   "execution_count": null,
   "metadata": {},
   "outputs": [],
   "source": [
    "message = retrieve.get_latest_event(config_data, scenerio_data)\n",
    "\n",
    "pipeline.update_mtm(config_data, scenerio_data, message)\n",
    "pipeline.update_ltm(config_data, scenerio_data, message)"
   ]
  },
  {
   "cell_type": "code",
   "execution_count": null,
   "metadata": {},
   "outputs": [],
   "source": [
    "# print all the memory stores?\n",
    "print(config_data[\"summarize\"][\"mtm_template\"])"
   ]
  }
 ],
 "metadata": {
  "kernelspec": {
   "display_name": "venv",
   "language": "python",
   "name": "python3"
  },
  "language_info": {
   "codemirror_mode": {
    "name": "ipython",
    "version": 3
   },
   "file_extension": ".py",
   "mimetype": "text/x-python",
   "name": "python",
   "nbconvert_exporter": "python",
   "pygments_lexer": "ipython3",
   "version": "3.9.6"
  }
 },
 "nbformat": 4,
 "nbformat_minor": 2
}
