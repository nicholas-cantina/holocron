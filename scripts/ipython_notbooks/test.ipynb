{
 "cells": [
  {
   "cell_type": "code",
   "execution_count": 12,
   "metadata": {},
   "outputs": [
    {
     "ename": "KeyError",
     "evalue": "'question_answer_few_shot_examples_file'",
     "output_type": "error",
     "traceback": [
      "\u001b[0;31m---------------------------------------------------------------------------\u001b[0m",
      "\u001b[0;31mKeyError\u001b[0m                                  Traceback (most recent call last)",
      "Cell \u001b[0;32mIn[12], line 16\u001b[0m\n\u001b[1;32m     12\u001b[0m \u001b[38;5;28;01mfrom\u001b[39;00m \u001b[38;5;21;01mscripts\u001b[39;00m \u001b[38;5;28;01mimport\u001b[39;00m test_config, setup\n\u001b[1;32m     13\u001b[0m \u001b[38;5;28;01mfrom\u001b[39;00m \u001b[38;5;21;01msrc\u001b[39;00m \u001b[38;5;28;01mimport\u001b[39;00m pipeline\n\u001b[0;32m---> 16\u001b[0m config_data \u001b[38;5;241m=\u001b[39m \u001b[43mtest_config\u001b[49m\u001b[38;5;241;43m.\u001b[39;49m\u001b[43mget_config_data\u001b[49m\u001b[43m(\u001b[49m\u001b[43m)\u001b[49m\n\u001b[1;32m     18\u001b[0m setup\u001b[38;5;241m.\u001b[39mdelete_db(config_data[\u001b[38;5;124m\"\u001b[39m\u001b[38;5;124mdatabase\u001b[39m\u001b[38;5;124m\"\u001b[39m][\u001b[38;5;124m\"\u001b[39m\u001b[38;5;124mdelete_db_script\u001b[39m\u001b[38;5;124m\"\u001b[39m], config_data[\u001b[38;5;124m\"\u001b[39m\u001b[38;5;124mdatabase\u001b[39m\u001b[38;5;124m\"\u001b[39m][\u001b[38;5;124m\"\u001b[39m\u001b[38;5;124mparams\u001b[39m\u001b[38;5;124m\"\u001b[39m])\n\u001b[1;32m     19\u001b[0m setup\u001b[38;5;241m.\u001b[39minitialize_db(\n\u001b[1;32m     20\u001b[0m     config_data[\u001b[38;5;124m\"\u001b[39m\u001b[38;5;124mdatabase\u001b[39m\u001b[38;5;124m\"\u001b[39m][\u001b[38;5;124m\"\u001b[39m\u001b[38;5;124mcreate_db_script\u001b[39m\u001b[38;5;124m\"\u001b[39m], \n\u001b[1;32m     21\u001b[0m     config_data[\u001b[38;5;124m\"\u001b[39m\u001b[38;5;124mdatabase\u001b[39m\u001b[38;5;124m\"\u001b[39m][\u001b[38;5;124m\"\u001b[39m\u001b[38;5;124msql_file\u001b[39m\u001b[38;5;124m\"\u001b[39m], \n\u001b[1;32m     22\u001b[0m     config_data[\u001b[38;5;124m\"\u001b[39m\u001b[38;5;124mdatabase\u001b[39m\u001b[38;5;124m\"\u001b[39m][\u001b[38;5;124m\"\u001b[39m\u001b[38;5;124mparams\u001b[39m\u001b[38;5;124m\"\u001b[39m]\n\u001b[1;32m     23\u001b[0m )\n",
      "File \u001b[0;32m~/src/holocron/scripts/test_config.py:121\u001b[0m, in \u001b[0;36mget_config_data\u001b[0;34m()\u001b[0m\n\u001b[1;32m    114\u001b[0m config \u001b[38;5;241m=\u001b[39m configparser\u001b[38;5;241m.\u001b[39mConfigParser()\n\u001b[1;32m    115\u001b[0m config\u001b[38;5;241m.\u001b[39mread(os\u001b[38;5;241m.\u001b[39mpath\u001b[38;5;241m.\u001b[39mjoin(file_dir, \u001b[38;5;124m\"\u001b[39m\u001b[38;5;124mtest_config.ini\u001b[39m\u001b[38;5;124m\"\u001b[39m))\n\u001b[1;32m    117\u001b[0m \u001b[38;5;28;01mreturn\u001b[39;00m {\n\u001b[1;32m    118\u001b[0m     \u001b[38;5;124m'\u001b[39m\u001b[38;5;124mtest\u001b[39m\u001b[38;5;124m'\u001b[39m: _get_config_data(config, root_dir),\n\u001b[1;32m    119\u001b[0m     \u001b[38;5;124m'\u001b[39m\u001b[38;5;124mdatabase\u001b[39m\u001b[38;5;124m'\u001b[39m: _get_database_config_data(config, root_dir),\n\u001b[1;32m    120\u001b[0m     \u001b[38;5;124m'\u001b[39m\u001b[38;5;124msearch\u001b[39m\u001b[38;5;124m'\u001b[39m: _get_search_config_data(config),\n\u001b[0;32m--> 121\u001b[0m     \u001b[38;5;124m'\u001b[39m\u001b[38;5;124mquestions\u001b[39m\u001b[38;5;124m'\u001b[39m: \u001b[43m_get_questions_pipeline_config_data\u001b[49m\u001b[43m(\u001b[49m\u001b[43mconfig\u001b[49m\u001b[43m,\u001b[49m\u001b[43m \u001b[49m\u001b[43mroot_dir\u001b[49m\u001b[43m)\u001b[49m,\n\u001b[1;32m    122\u001b[0m     \u001b[38;5;124m'\u001b[39m\u001b[38;5;124mactions\u001b[39m\u001b[38;5;124m'\u001b[39m: _get_actions_pipeline_config_data(config, root_dir),\n\u001b[1;32m    123\u001b[0m     \u001b[38;5;124m'\u001b[39m\u001b[38;5;124mchat\u001b[39m\u001b[38;5;124m'\u001b[39m: _get_chat_pipeline_config_data(config, root_dir)\n\u001b[1;32m    124\u001b[0m }\n",
      "File \u001b[0;32m~/src/holocron/scripts/test_config.py:21\u001b[0m, in \u001b[0;36m_get_questions_pipeline_config_data\u001b[0;34m(config, root_dir)\u001b[0m\n\u001b[1;32m     16\u001b[0m questions \u001b[38;5;241m=\u001b[39m \u001b[38;5;28mlist\u001b[39m(itertools\u001b[38;5;241m.\u001b[39mchain\u001b[38;5;241m.\u001b[39mfrom_iterable(questions_dict))\n\u001b[1;32m     17\u001b[0m question_reframe_template \u001b[38;5;241m=\u001b[39m common\u001b[38;5;241m.\u001b[39mread_file(\n\u001b[1;32m     18\u001b[0m     os\u001b[38;5;241m.\u001b[39mpath\u001b[38;5;241m.\u001b[39mjoin(root_dir, config[\u001b[38;5;124m\"\u001b[39m\u001b[38;5;124mQuestions\u001b[39m\u001b[38;5;124m\"\u001b[39m][\u001b[38;5;124m\"\u001b[39m\u001b[38;5;124mquestion_reframe_template_file\u001b[39m\u001b[38;5;124m\"\u001b[39m])\n\u001b[1;32m     19\u001b[0m )\n\u001b[1;32m     20\u001b[0m question_answer_few_shot_examples \u001b[38;5;241m=\u001b[39m common\u001b[38;5;241m.\u001b[39mread_jsonl_file(\n\u001b[0;32m---> 21\u001b[0m     os\u001b[38;5;241m.\u001b[39mpath\u001b[38;5;241m.\u001b[39mjoin(root_dir, \u001b[43mconfig\u001b[49m\u001b[43m[\u001b[49m\u001b[38;5;124;43m\"\u001b[39;49m\u001b[38;5;124;43mQuestions\u001b[39;49m\u001b[38;5;124;43m\"\u001b[39;49m\u001b[43m]\u001b[49m\u001b[43m[\u001b[49m\u001b[38;5;124;43m\"\u001b[39;49m\u001b[38;5;124;43mquestion_answer_few_shot_examples_file\u001b[39;49m\u001b[38;5;124;43m\"\u001b[39;49m\u001b[43m]\u001b[49m)\n\u001b[1;32m     22\u001b[0m )\n\u001b[1;32m     23\u001b[0m question_reframed_question_few_shot_examples \u001b[38;5;241m=\u001b[39m common\u001b[38;5;241m.\u001b[39mread_jsonl_file(\n\u001b[1;32m     24\u001b[0m     os\u001b[38;5;241m.\u001b[39mpath\u001b[38;5;241m.\u001b[39mjoin(root_dir, config[\u001b[38;5;124m\"\u001b[39m\u001b[38;5;124mQuestions\u001b[39m\u001b[38;5;124m\"\u001b[39m][\u001b[38;5;124m\"\u001b[39m\u001b[38;5;124mquestion_reframed_question_few_shot_examples_file\u001b[39m\u001b[38;5;124m\"\u001b[39m])\n\u001b[1;32m     25\u001b[0m )\n\u001b[1;32m     26\u001b[0m question_output_schema \u001b[38;5;241m=\u001b[39m common\u001b[38;5;241m.\u001b[39mread_json_file(\n\u001b[1;32m     27\u001b[0m     os\u001b[38;5;241m.\u001b[39mpath\u001b[38;5;241m.\u001b[39mjoin(root_dir, config[\u001b[38;5;124m\"\u001b[39m\u001b[38;5;124mQuestions\u001b[39m\u001b[38;5;124m\"\u001b[39m][\u001b[38;5;124m\"\u001b[39m\u001b[38;5;124mquestion_output_schema_file\u001b[39m\u001b[38;5;124m\"\u001b[39m])\n\u001b[1;32m     28\u001b[0m )\n",
      "File \u001b[0;32m/Applications/Xcode.app/Contents/Developer/Library/Frameworks/Python3.framework/Versions/3.9/lib/python3.9/configparser.py:1257\u001b[0m, in \u001b[0;36mSectionProxy.__getitem__\u001b[0;34m(self, key)\u001b[0m\n\u001b[1;32m   1255\u001b[0m \u001b[38;5;28;01mdef\u001b[39;00m \u001b[38;5;21m__getitem__\u001b[39m(\u001b[38;5;28mself\u001b[39m, key):\n\u001b[1;32m   1256\u001b[0m     \u001b[38;5;28;01mif\u001b[39;00m \u001b[38;5;129;01mnot\u001b[39;00m \u001b[38;5;28mself\u001b[39m\u001b[38;5;241m.\u001b[39m_parser\u001b[38;5;241m.\u001b[39mhas_option(\u001b[38;5;28mself\u001b[39m\u001b[38;5;241m.\u001b[39m_name, key):\n\u001b[0;32m-> 1257\u001b[0m         \u001b[38;5;28;01mraise\u001b[39;00m \u001b[38;5;167;01mKeyError\u001b[39;00m(key)\n\u001b[1;32m   1258\u001b[0m     \u001b[38;5;28;01mreturn\u001b[39;00m \u001b[38;5;28mself\u001b[39m\u001b[38;5;241m.\u001b[39m_parser\u001b[38;5;241m.\u001b[39mget(\u001b[38;5;28mself\u001b[39m\u001b[38;5;241m.\u001b[39m_name, key)\n",
      "\u001b[0;31mKeyError\u001b[0m: 'question_answer_few_shot_examples_file'"
     ]
    }
   ],
   "source": [
    "%reload_ext autoreload\n",
    "%autoreload 2\n",
    "\n",
    "import sys\n",
    "import os\n",
    "import itertools\n",
    "\n",
    "parent_dir = os.path.abspath(os.path.join(os.getcwd(), \"..\", os.pardir))\n",
    "if parent_dir not in sys.path:\n",
    "    sys.path.insert(0, parent_dir)\n",
    "\n",
    "from scripts import test_config, setup\n",
    "from src import pipeline\n",
    "\n",
    "\n",
    "config_data = test_config.get_config_data()\n",
    "\n",
    "setup.delete_db(config_data[\"database\"][\"delete_db_script\"], config_data[\"database\"][\"params\"])\n",
    "setup.initialize_db(\n",
    "    config_data[\"database\"][\"create_db_script\"], \n",
    "    config_data[\"database\"][\"sql_file\"], \n",
    "    config_data[\"database\"][\"params\"]\n",
    ")\n",
    "\n",
    "responses = []\n",
    "for scenerio_data in itertools.islice(config_data[\"test\"][\"scenerios\"]):\n",
    "    pipeline.initialize_ltm_pipeline(config_data, scenerio_data)\n",
    "    # pipeline.initialize_stm_pipeline(config_data, scenerio_data)\n",
    "\n",
    "    pipeline.run_memory_creation_pipeline(config_data, scenerio_data)\n",
    "    # pipeline.run_memory_consolidation_pipeline(config_data, scenerio_data)\n",
    "\n",
    "    # scenerio_responses = []\n",
    "    # for _ in range(config_data[\"test\"][\"how_many_responses\"]):\n",
    "    #     response = pipeline.run_chat_pipeline(config_data, scenerio_data)\n",
    "    #     scenerio_responses += [response]\n",
    "\n",
    "    # responses += [scenerio_responses]\n",
    "\n",
    "# common.save_jsonl_file(config_data[\"test\"][\"test_save_output_filepath\"], responses)\n"
   ]
  }
 ],
 "metadata": {
  "kernelspec": {
   "display_name": "venv",
   "language": "python",
   "name": "python3"
  },
  "language_info": {
   "codemirror_mode": {
    "name": "ipython",
    "version": 3
   },
   "file_extension": ".py",
   "mimetype": "text/x-python",
   "name": "python",
   "nbconvert_exporter": "python",
   "pygments_lexer": "ipython3",
   "version": "3.9.6"
  }
 },
 "nbformat": 4,
 "nbformat_minor": 2
}
