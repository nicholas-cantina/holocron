{
 "cells": [
  {
   "cell_type": "code",
   "execution_count": 13,
   "metadata": {},
   "outputs": [],
   "source": [
    "import sys\n",
    "import os\n",
    "\n",
    "# Assume your modules are in the 'src' directory under the current notebook directory\n",
    "# Get the absolute path of the parent directory\n",
    "parent_dir = os.path.abspath(os.path.join(os.getcwd(), os.pardir))\n",
    "\n",
    "# Add it to sys.path if not already included\n",
    "if parent_dir not in sys.path:\n",
    "    sys.path.insert(0, parent_dir)\n",
    "\n",
    "from utils import common\n",
    "from utils import extract\n",
    "from utils import handlebars\n",
    "\n",
    "# necessary sometimes when importing in VSCode\n",
    "import importlib\n",
    "importlib.reload(common)\n",
    "importlib.reload(extract)\n",
    "importlib.reload(handlebars)"
   ]
  },
  {
   "cell_type": "code",
   "execution_count": 21,
   "metadata": {},
   "outputs": [],
   "source": [
    "import sqlalchemy\n",
    "\n",
    "# Database connection parameters\n",
    "db_params = {\n",
    "    'dbname': 'memories',\n",
    "    'user': 'TEST_USERNAME',\n",
    "    'password': 'TEST_PASSWORD',\n",
    "    'host': 'localhost',  # e.g., 'localhost' or an IP address\n",
    "    'port': '5432'  # usually 5432 for PostgreSQL\n",
    "}\n",
    "\n",
    "sql_file_path = os.path.join(parent_dir, 'sql', '001_schema.sql')\n",
    "with open(sql_file_path, 'r', encoding='utf-8') as file:\n",
    "    sql_commands = file.read()\n",
    "\n",
    "try:\n",
    "    connection = sqlalchemy.connect(**db_params)\n",
    "    cursor = connection.cursor()\n",
    "    \n",
    "    cursor.execute(sql_commands)\n",
    "    connection.commit()\n",
    "except Exception as error:\n",
    "    print(f\"Error while executing SQL commands: {error}\")\n",
    "    if connection:\n",
    "        connection.rollback()\n",
    "    \n",
    "finally:\n",
    "    if cursor:\n",
    "        cursor.close()\n",
    "    if connection:\n",
    "        connection.close()"
   ]
  },
  {
   "cell_type": "code",
   "execution_count": null,
   "metadata": {},
   "outputs": [],
   "source": [
    "\n",
    "import itertools\n",
    "\n",
    "conversations = common.read_jsonl_file(\"../data/conversations.json\")\n",
    "\n",
    "embedding_model = \"text-embedding-ada-002\"\n",
    "\n",
    "how_many_conversations = 1\n",
    "\n",
    "for conversation in itertools.islice(conversations, how_many_conversations):\n",
    "    try:\n",
    "        connection = sqlalchemy.connect(**db_params)\n",
    "        cursor = connection.cursor()\n",
    "        \n",
    "        # TODO: add embedding for each set of messages\n",
    "        \n",
    "        connection.commit()\n",
    "    except Exception as error:\n",
    "        print(f\"Error while executing SQL commands: {error}\")\n",
    "        if connection:\n",
    "            connection.rollback()\n",
    "        \n",
    "    finally:\n",
    "        if cursor:\n",
    "            cursor.close()\n",
    "        if connection:\n",
    "            connection.close()"
   ]
  }
 ],
 "metadata": {
  "kernelspec": {
   "display_name": "Python 3",
   "language": "python",
   "name": "python3"
  },
  "language_info": {
   "codemirror_mode": {
    "name": "ipython",
    "version": 3
   },
   "file_extension": ".py",
   "mimetype": "text/x-python",
   "name": "python",
   "nbconvert_exporter": "python",
   "pygments_lexer": "ipython3",
   "version": "3.9.6"
  }
 },
 "nbformat": 4,
 "nbformat_minor": 2
}
