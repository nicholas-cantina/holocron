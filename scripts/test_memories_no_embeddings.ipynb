{
 "cells": [
  {
   "cell_type": "code",
   "execution_count": 13,
   "metadata": {},
   "outputs": [
    {
     "name": "stdout",
     "output_type": "stream",
     "text": [
      "Data successfully saved to ../data/memories-test-results.jsonl\n"
     ]
    }
   ],
   "source": [
    "import sys\n",
    "import os\n",
    "import itertools\n",
    "import json\n",
    "\n",
    "%reload_ext autoreload\n",
    "%autoreload 2\n",
    "\n",
    "parent_dir = os.path.abspath(os.path.join(os.getcwd(), os.pardir))\n",
    "\n",
    "if parent_dir not in sys.path:\n",
    "    sys.path.insert(0, parent_dir)\n",
    "\n",
    "from utils import common\n",
    "from utils import extract\n",
    "from utils import demo\n",
    "from src import memory\n",
    "\n",
    "\n",
    "conversations_filepath = \"../data/test_inputs/multi-user-test-conversations-selected.jsonl\"\n",
    "conversations = common.read_jsonl_file(conversations_filepath)\n",
    "\n",
    "questions_filepath = \"../data/test_inputs/questions.json\"\n",
    "questions = common.read_json_file(questions_filepath)\n",
    "\n",
    "chat_prompt_template_filepath = \"../data/templates/chat-prompt-template.hbs\"\n",
    "chat_prompt_template = common.read_file(chat_prompt_template_filepath)\n",
    "\n",
    "memory_prompt_template_filepath = \"../data/templates/memory-prompt-template.hbs\"\n",
    "memory_prompt_template = common.read_file(memory_prompt_template_filepath)\n",
    "\n",
    "test_save_output_filepath = \"../data/test_outputs/memories-test-results.jsonl\"\n",
    "\n",
    "how_many_conversations = 1\n",
    "\n",
    "\n",
    "with open(test_save_output_filepath, 'w') as file: pass\n",
    "\n",
    "for conversation in itertools.islice(conversations, how_many_conversations):\n",
    "    prompt_data = extract.extract_prompt_data(conversation)\n",
    "\n",
    "    memories = memory.generate_memories(prompt_data, questions, memory_prompt_template)\n",
    "\n",
    "    test_outputs = demo.generate_test_outputs(prompt_data, memories, chat_prompt_template)\n",
    "    common.append_jsonl_file(test_save_output_filepath, test_outputs)\n"
   ]
  }
 ],
 "metadata": {
  "kernelspec": {
   "display_name": "venv",
   "language": "python",
   "name": "python3"
  },
  "language_info": {
   "codemirror_mode": {
    "name": "ipython",
    "version": 3
   },
   "file_extension": ".py",
   "mimetype": "text/x-python",
   "name": "python",
   "nbconvert_exporter": "python",
   "pygments_lexer": "ipython3",
   "version": "3.9.6"
  }
 },
 "nbformat": 4,
 "nbformat_minor": 2
}
